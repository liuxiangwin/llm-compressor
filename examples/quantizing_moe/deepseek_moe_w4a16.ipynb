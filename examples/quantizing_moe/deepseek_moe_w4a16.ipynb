{
 "cells": [
  {
   "cell_type": "code",
   "execution_count": 1,
   "id": "64a5a68f-41cc-45bb-a8b8-af4fd4adeba5",
   "metadata": {},
   "outputs": [
    {
     "name": "stdout",
     "output_type": "stream",
     "text": [
      "\n",
      "\u001b[1m[\u001b[0m\u001b[34;49mnotice\u001b[0m\u001b[1;39;49m]\u001b[0m\u001b[39;49m A new release of pip is available: \u001b[0m\u001b[31;49m24.2\u001b[0m\u001b[39;49m -> \u001b[0m\u001b[32;49m25.1.1\u001b[0m\n",
      "\u001b[1m[\u001b[0m\u001b[34;49mnotice\u001b[0m\u001b[1;39;49m]\u001b[0m\u001b[39;49m To update, run: \u001b[0m\u001b[32;49mpip install --upgrade pip\u001b[0m\n"
     ]
    }
   ],
   "source": [
    "!pip install datasets  --quiet"
   ]
  },
  {
   "cell_type": "code",
   "execution_count": 2,
   "id": "12a1a4e3-1e2f-4bc7-88b3-72bd29a02de6",
   "metadata": {},
   "outputs": [
    {
     "name": "stdout",
     "output_type": "stream",
     "text": [
      "\n",
      "\u001b[1m[\u001b[0m\u001b[34;49mnotice\u001b[0m\u001b[1;39;49m]\u001b[0m\u001b[39;49m A new release of pip is available: \u001b[0m\u001b[31;49m24.2\u001b[0m\u001b[39;49m -> \u001b[0m\u001b[32;49m25.1.1\u001b[0m\n",
      "\u001b[1m[\u001b[0m\u001b[34;49mnotice\u001b[0m\u001b[1;39;49m]\u001b[0m\u001b[39;49m To update, run: \u001b[0m\u001b[32;49mpip install --upgrade pip\u001b[0m\n"
     ]
    }
   ],
   "source": [
    "!pip install transformers==4.51.3 --quiet"
   ]
  },
  {
   "cell_type": "code",
   "execution_count": 3,
   "id": "c17ff620-dead-4bf3-8518-bc7ca04f84c4",
   "metadata": {},
   "outputs": [
    {
     "name": "stdout",
     "output_type": "stream",
     "text": [
      "\u001b[31mERROR: pip's dependency resolver does not currently take into account all the packages that are installed. This behaviour is the source of the following dependency conflicts.\n",
      "codeflare-sdk 0.26.0 requires pydantic<2, but you have pydantic 2.11.7 which is incompatible.\n",
      "codeflare-sdk 0.26.0 requires ray[data,default]==2.35.0, but you have ray 2.47.0 which is incompatible.\n",
      "kfp 2.9.0 requires protobuf<5,>=4.21.1, but you have protobuf 5.29.5 which is incompatible.\n",
      "kfp-kubernetes 1.4.0 requires protobuf<5,>=4.21.1, but you have protobuf 5.29.5 which is incompatible.\n",
      "kfp-pipeline-spec 0.4.0 requires protobuf<5,>=4.21.1, but you have protobuf 5.29.5 which is incompatible.\u001b[0m\u001b[31m\n",
      "\u001b[0m\n",
      "\u001b[1m[\u001b[0m\u001b[34;49mnotice\u001b[0m\u001b[1;39;49m]\u001b[0m\u001b[39;49m A new release of pip is available: \u001b[0m\u001b[31;49m24.2\u001b[0m\u001b[39;49m -> \u001b[0m\u001b[32;49m25.1.1\u001b[0m\n",
      "\u001b[1m[\u001b[0m\u001b[34;49mnotice\u001b[0m\u001b[1;39;49m]\u001b[0m\u001b[39;49m To update, run: \u001b[0m\u001b[32;49mpip install --upgrade pip\u001b[0m\n"
     ]
    }
   ],
   "source": [
    "!pip install llmcompressor lm-eval vllm --quiet"
   ]
  },
  {
   "cell_type": "code",
   "execution_count": null,
   "id": "b732fc78-fe8b-4265-8661-10b51f6c2832",
   "metadata": {},
   "outputs": [
    {
     "data": {
      "application/vnd.jupyter.widget-view+json": {
       "model_id": "3eb223605fd541459e599fff0a7817c8",
       "version_major": 2,
       "version_minor": 0
      },
      "text/plain": [
       "config.json:   0%|          | 0.00/1.55k [00:00<?, ?B/s]"
      ]
     },
     "metadata": {},
     "output_type": "display_data"
    },
    {
     "data": {
      "application/vnd.jupyter.widget-view+json": {
       "model_id": "96dde7d73a53462cabb677a4f0b56aeb",
       "version_major": 2,
       "version_minor": 0
      },
      "text/plain": [
       "configuration_deepseek.py:   0%|          | 0.00/10.3k [00:00<?, ?B/s]"
      ]
     },
     "metadata": {},
     "output_type": "display_data"
    },
    {
     "name": "stderr",
     "output_type": "stream",
     "text": [
      "A new version of the following files was downloaded from https://huggingface.co/deepseek-ai/DeepSeek-V2.5:\n",
      "- configuration_deepseek.py\n",
      ". Make sure to double-check they do not contain any added malicious code. To avoid downloading new versions of the code file, you can pin a revision.\n"
     ]
    },
    {
     "data": {
      "application/vnd.jupyter.widget-view+json": {
       "model_id": "19de7058ed474f31b15ff3250cf359db",
       "version_major": 2,
       "version_minor": 0
      },
      "text/plain": [
       "modeling_deepseek.py:   0%|          | 0.00/78.7k [00:00<?, ?B/s]"
      ]
     },
     "metadata": {},
     "output_type": "display_data"
    },
    {
     "name": "stderr",
     "output_type": "stream",
     "text": [
      "A new version of the following files was downloaded from https://huggingface.co/deepseek-ai/DeepSeek-V2.5:\n",
      "- modeling_deepseek.py\n",
      ". Make sure to double-check they do not contain any added malicious code. To avoid downloading new versions of the code file, you can pin a revision.\n"
     ]
    },
    {
     "data": {
      "application/vnd.jupyter.widget-view+json": {
       "model_id": "0be513e95e9c4aff9e0ce9418432bf76",
       "version_major": 2,
       "version_minor": 0
      },
      "text/plain": [
       "model.safetensors.index.json:   0%|          | 0.00/2.66M [00:00<?, ?B/s]"
      ]
     },
     "metadata": {},
     "output_type": "display_data"
    },
    {
     "data": {
      "application/vnd.jupyter.widget-view+json": {
       "model_id": "a9ce0cef1ee14026b6cb06a8d5e10cb1",
       "version_major": 2,
       "version_minor": 0
      },
      "text/plain": [
       "Fetching 55 files:   0%|          | 0/55 [00:00<?, ?it/s]"
      ]
     },
     "metadata": {},
     "output_type": "display_data"
    },
    {
     "data": {
      "application/vnd.jupyter.widget-view+json": {
       "model_id": "16fab59872b342f893570e9ab7c93f5a",
       "version_major": 2,
       "version_minor": 0
      },
      "text/plain": [
       "model-00001-of-000055.safetensors:   0%|          | 0.00/8.59G [00:00<?, ?B/s]"
      ]
     },
     "metadata": {},
     "output_type": "display_data"
    },
    {
     "data": {
      "application/vnd.jupyter.widget-view+json": {
       "model_id": "4c2920e5d23e40899b11ff472b83693e",
       "version_major": 2,
       "version_minor": 0
      },
      "text/plain": [
       "model-00006-of-000055.safetensors:   0%|          | 0.00/8.60G [00:00<?, ?B/s]"
      ]
     },
     "metadata": {},
     "output_type": "display_data"
    },
    {
     "data": {
      "application/vnd.jupyter.widget-view+json": {
       "model_id": "431773edc2d04d408200a4baace8895b",
       "version_major": 2,
       "version_minor": 0
      },
      "text/plain": [
       "model-00004-of-000055.safetensors:   0%|          | 0.00/8.60G [00:00<?, ?B/s]"
      ]
     },
     "metadata": {},
     "output_type": "display_data"
    },
    {
     "data": {
      "application/vnd.jupyter.widget-view+json": {
       "model_id": "aa318957f74642dbb16fbd3dbefbdb7e",
       "version_major": 2,
       "version_minor": 0
      },
      "text/plain": [
       "model-00007-of-000055.safetensors:   0%|          | 0.00/8.60G [00:00<?, ?B/s]"
      ]
     },
     "metadata": {},
     "output_type": "display_data"
    },
    {
     "data": {
      "application/vnd.jupyter.widget-view+json": {
       "model_id": "7f6823995e784989bc5aa774ba5dce54",
       "version_major": 2,
       "version_minor": 0
      },
      "text/plain": [
       "model-00008-of-000055.safetensors:   0%|          | 0.00/8.60G [00:00<?, ?B/s]"
      ]
     },
     "metadata": {},
     "output_type": "display_data"
    },
    {
     "data": {
      "application/vnd.jupyter.widget-view+json": {
       "model_id": "b873e9b102a44b4f9d6e1843684fa88b",
       "version_major": 2,
       "version_minor": 0
      },
      "text/plain": [
       "model-00005-of-000055.safetensors:   0%|          | 0.00/8.59G [00:00<?, ?B/s]"
      ]
     },
     "metadata": {},
     "output_type": "display_data"
    },
    {
     "data": {
      "application/vnd.jupyter.widget-view+json": {
       "model_id": "00dfd60687334ca79326376ec9393d55",
       "version_major": 2,
       "version_minor": 0
      },
      "text/plain": [
       "model-00003-of-000055.safetensors:   0%|          | 0.00/8.60G [00:00<?, ?B/s]"
      ]
     },
     "metadata": {},
     "output_type": "display_data"
    },
    {
     "data": {
      "application/vnd.jupyter.widget-view+json": {
       "model_id": "8d53739f76ab4f8fb1486f67a9b361d6",
       "version_major": 2,
       "version_minor": 0
      },
      "text/plain": [
       "model-00002-of-000055.safetensors:   0%|          | 0.00/8.60G [00:00<?, ?B/s]"
      ]
     },
     "metadata": {},
     "output_type": "display_data"
    },
    {
     "data": {
      "application/vnd.jupyter.widget-view+json": {
       "model_id": "886b65bde2a641deb83e65123d332a06",
       "version_major": 2,
       "version_minor": 0
      },
      "text/plain": [
       "model-00009-of-000055.safetensors:   0%|          | 0.00/8.60G [00:00<?, ?B/s]"
      ]
     },
     "metadata": {},
     "output_type": "display_data"
    },
    {
     "data": {
      "application/vnd.jupyter.widget-view+json": {
       "model_id": "3cbde8b42dbe4484af6149c91f2a837d",
       "version_major": 2,
       "version_minor": 0
      },
      "text/plain": [
       "model-00010-of-000055.safetensors:   0%|          | 0.00/8.60G [00:00<?, ?B/s]"
      ]
     },
     "metadata": {},
     "output_type": "display_data"
    },
    {
     "data": {
      "application/vnd.jupyter.widget-view+json": {
       "model_id": "4e90b767ad784107a1d19a6fdf78aa99",
       "version_major": 2,
       "version_minor": 0
      },
      "text/plain": [
       "model-00011-of-000055.safetensors:   0%|          | 0.00/8.60G [00:00<?, ?B/s]"
      ]
     },
     "metadata": {},
     "output_type": "display_data"
    },
    {
     "data": {
      "application/vnd.jupyter.widget-view+json": {
       "model_id": "2af5375caa214c5183629985cf8e3360",
       "version_major": 2,
       "version_minor": 0
      },
      "text/plain": [
       "model-00012-of-000055.safetensors:   0%|          | 0.00/8.60G [00:00<?, ?B/s]"
      ]
     },
     "metadata": {},
     "output_type": "display_data"
    },
    {
     "data": {
      "application/vnd.jupyter.widget-view+json": {
       "model_id": "65c71237fde04d69b880c7dcaad62f33",
       "version_major": 2,
       "version_minor": 0
      },
      "text/plain": [
       "model-00013-of-000055.safetensors:   0%|          | 0.00/8.60G [00:00<?, ?B/s]"
      ]
     },
     "metadata": {},
     "output_type": "display_data"
    },
    {
     "data": {
      "application/vnd.jupyter.widget-view+json": {
       "model_id": "91c6e8333dd34fa8acf43e9eccf51d1b",
       "version_major": 2,
       "version_minor": 0
      },
      "text/plain": [
       "model-00014-of-000055.safetensors:   0%|          | 0.00/8.60G [00:00<?, ?B/s]"
      ]
     },
     "metadata": {},
     "output_type": "display_data"
    },
    {
     "data": {
      "application/vnd.jupyter.widget-view+json": {
       "model_id": "ca87b945b8604231a2dc9a61b795334b",
       "version_major": 2,
       "version_minor": 0
      },
      "text/plain": [
       "model-00015-of-000055.safetensors:   0%|          | 0.00/8.60G [00:00<?, ?B/s]"
      ]
     },
     "metadata": {},
     "output_type": "display_data"
    },
    {
     "data": {
      "application/vnd.jupyter.widget-view+json": {
       "model_id": "7d4e39a94be346f28a612372ccf45c75",
       "version_major": 2,
       "version_minor": 0
      },
      "text/plain": [
       "model-00016-of-000055.safetensors:   0%|          | 0.00/8.60G [00:00<?, ?B/s]"
      ]
     },
     "metadata": {},
     "output_type": "display_data"
    },
    {
     "data": {
      "application/vnd.jupyter.widget-view+json": {
       "model_id": "9421326326924bbb9f8aef8b3b07125e",
       "version_major": 2,
       "version_minor": 0
      },
      "text/plain": [
       "model-00017-of-000055.safetensors:   0%|          | 0.00/8.59G [00:00<?, ?B/s]"
      ]
     },
     "metadata": {},
     "output_type": "display_data"
    },
    {
     "data": {
      "application/vnd.jupyter.widget-view+json": {
       "model_id": "a0dafe489d6f4365924e6417b25dc926",
       "version_major": 2,
       "version_minor": 0
      },
      "text/plain": [
       "model-00018-of-000055.safetensors:   0%|          | 0.00/8.60G [00:00<?, ?B/s]"
      ]
     },
     "metadata": {},
     "output_type": "display_data"
    },
    {
     "data": {
      "application/vnd.jupyter.widget-view+json": {
       "model_id": "a33329bf25174c19906cf05ac720acd9",
       "version_major": 2,
       "version_minor": 0
      },
      "text/plain": [
       "model-00019-of-000055.safetensors:   0%|          | 0.00/8.60G [00:00<?, ?B/s]"
      ]
     },
     "metadata": {},
     "output_type": "display_data"
    },
    {
     "data": {
      "application/vnd.jupyter.widget-view+json": {
       "model_id": "69d994c24bae420ab2892498cb33645d",
       "version_major": 2,
       "version_minor": 0
      },
      "text/plain": [
       "model-00020-of-000055.safetensors:   0%|          | 0.00/8.60G [00:00<?, ?B/s]"
      ]
     },
     "metadata": {},
     "output_type": "display_data"
    },
    {
     "data": {
      "application/vnd.jupyter.widget-view+json": {
       "model_id": "508e8b82170c49f296db347ab883587e",
       "version_major": 2,
       "version_minor": 0
      },
      "text/plain": [
       "model-00021-of-000055.safetensors:   0%|          | 0.00/8.60G [00:00<?, ?B/s]"
      ]
     },
     "metadata": {},
     "output_type": "display_data"
    },
    {
     "data": {
      "application/vnd.jupyter.widget-view+json": {
       "model_id": "22ba962a6ee845b58178a9528851cb18",
       "version_major": 2,
       "version_minor": 0
      },
      "text/plain": [
       "model-00022-of-000055.safetensors:   0%|          | 0.00/8.60G [00:00<?, ?B/s]"
      ]
     },
     "metadata": {},
     "output_type": "display_data"
    },
    {
     "data": {
      "application/vnd.jupyter.widget-view+json": {
       "model_id": "550bfff759934f3eb710fd9d715c9861",
       "version_major": 2,
       "version_minor": 0
      },
      "text/plain": [
       "model-00023-of-000055.safetensors:   0%|          | 0.00/8.60G [00:00<?, ?B/s]"
      ]
     },
     "metadata": {},
     "output_type": "display_data"
    },
    {
     "data": {
      "application/vnd.jupyter.widget-view+json": {
       "model_id": "28ba576fe5c6428e982bb068a3cba1e9",
       "version_major": 2,
       "version_minor": 0
      },
      "text/plain": [
       "model-00024-of-000055.safetensors:   0%|          | 0.00/8.60G [00:00<?, ?B/s]"
      ]
     },
     "metadata": {},
     "output_type": "display_data"
    },
    {
     "data": {
      "application/vnd.jupyter.widget-view+json": {
       "model_id": "cf3f21e0ef8a44e19519eeff12f09062",
       "version_major": 2,
       "version_minor": 0
      },
      "text/plain": [
       "model-00025-of-000055.safetensors:   0%|          | 0.00/8.60G [00:00<?, ?B/s]"
      ]
     },
     "metadata": {},
     "output_type": "display_data"
    },
    {
     "data": {
      "application/vnd.jupyter.widget-view+json": {
       "model_id": "638e5861d581431d85c5cb736129253e",
       "version_major": 2,
       "version_minor": 0
      },
      "text/plain": [
       "model-00026-of-000055.safetensors:   0%|          | 0.00/8.60G [00:00<?, ?B/s]"
      ]
     },
     "metadata": {},
     "output_type": "display_data"
    },
    {
     "data": {
      "application/vnd.jupyter.widget-view+json": {
       "model_id": "b77227f7e4c9411f905eca7be24fd69b",
       "version_major": 2,
       "version_minor": 0
      },
      "text/plain": [
       "model-00027-of-000055.safetensors:   0%|          | 0.00/8.60G [00:00<?, ?B/s]"
      ]
     },
     "metadata": {},
     "output_type": "display_data"
    },
    {
     "data": {
      "application/vnd.jupyter.widget-view+json": {
       "model_id": "84ba3110204e45a1a484b7cf0492cc51",
       "version_major": 2,
       "version_minor": 0
      },
      "text/plain": [
       "model-00028-of-000055.safetensors:   0%|          | 0.00/8.60G [00:00<?, ?B/s]"
      ]
     },
     "metadata": {},
     "output_type": "display_data"
    },
    {
     "data": {
      "application/vnd.jupyter.widget-view+json": {
       "model_id": "03870c05a60948488ffedaa6a7a9d176",
       "version_major": 2,
       "version_minor": 0
      },
      "text/plain": [
       "model-00029-of-000055.safetensors:   0%|          | 0.00/8.59G [00:00<?, ?B/s]"
      ]
     },
     "metadata": {},
     "output_type": "display_data"
    },
    {
     "data": {
      "application/vnd.jupyter.widget-view+json": {
       "model_id": "dc0cf162ed384825a0fcdeecc9188344",
       "version_major": 2,
       "version_minor": 0
      },
      "text/plain": [
       "model-00030-of-000055.safetensors:   0%|          | 0.00/8.60G [00:00<?, ?B/s]"
      ]
     },
     "metadata": {},
     "output_type": "display_data"
    },
    {
     "data": {
      "application/vnd.jupyter.widget-view+json": {
       "model_id": "9227c3af05df45218d3913539d69e969",
       "version_major": 2,
       "version_minor": 0
      },
      "text/plain": [
       "model-00031-of-000055.safetensors:   0%|          | 0.00/8.60G [00:00<?, ?B/s]"
      ]
     },
     "metadata": {},
     "output_type": "display_data"
    },
    {
     "data": {
      "application/vnd.jupyter.widget-view+json": {
       "model_id": "291f086b103548e7b145a6f3c6e16ddb",
       "version_major": 2,
       "version_minor": 0
      },
      "text/plain": [
       "model-00032-of-000055.safetensors:   0%|          | 0.00/8.60G [00:00<?, ?B/s]"
      ]
     },
     "metadata": {},
     "output_type": "display_data"
    },
    {
     "data": {
      "application/vnd.jupyter.widget-view+json": {
       "model_id": "3b641af6cbec412f83d40dbd7cfb777b",
       "version_major": 2,
       "version_minor": 0
      },
      "text/plain": [
       "model-00033-of-000055.safetensors:   0%|          | 0.00/8.60G [00:00<?, ?B/s]"
      ]
     },
     "metadata": {},
     "output_type": "display_data"
    },
    {
     "data": {
      "application/vnd.jupyter.widget-view+json": {
       "model_id": "aac0eb2b6f7b4736afbc5f644258ce20",
       "version_major": 2,
       "version_minor": 0
      },
      "text/plain": [
       "model-00034-of-000055.safetensors:   0%|          | 0.00/8.60G [00:00<?, ?B/s]"
      ]
     },
     "metadata": {},
     "output_type": "display_data"
    },
    {
     "data": {
      "application/vnd.jupyter.widget-view+json": {
       "model_id": "41da6b3a955a4b4cbcdeb5e4d6069d25",
       "version_major": 2,
       "version_minor": 0
      },
      "text/plain": [
       "model-00035-of-000055.safetensors:   0%|          | 0.00/8.60G [00:00<?, ?B/s]"
      ]
     },
     "metadata": {},
     "output_type": "display_data"
    },
    {
     "data": {
      "application/vnd.jupyter.widget-view+json": {
       "model_id": "d8ad6900f0c64c33a798aa3e5399f494",
       "version_major": 2,
       "version_minor": 0
      },
      "text/plain": [
       "model-00036-of-000055.safetensors:   0%|          | 0.00/8.60G [00:00<?, ?B/s]"
      ]
     },
     "metadata": {},
     "output_type": "display_data"
    },
    {
     "data": {
      "application/vnd.jupyter.widget-view+json": {
       "model_id": "58883eea1dda426d8e8ddfed07be9aac",
       "version_major": 2,
       "version_minor": 0
      },
      "text/plain": [
       "model-00037-of-000055.safetensors:   0%|          | 0.00/8.60G [00:00<?, ?B/s]"
      ]
     },
     "metadata": {},
     "output_type": "display_data"
    },
    {
     "data": {
      "application/vnd.jupyter.widget-view+json": {
       "model_id": "7e097c68df4946dd92576d9c04202b9d",
       "version_major": 2,
       "version_minor": 0
      },
      "text/plain": [
       "model-00038-of-000055.safetensors:   0%|          | 0.00/8.60G [00:00<?, ?B/s]"
      ]
     },
     "metadata": {},
     "output_type": "display_data"
    },
    {
     "data": {
      "application/vnd.jupyter.widget-view+json": {
       "model_id": "26ed55c1bd294a188f14c07536ddd93a",
       "version_major": 2,
       "version_minor": 0
      },
      "text/plain": [
       "model-00039-of-000055.safetensors:   0%|          | 0.00/8.60G [00:00<?, ?B/s]"
      ]
     },
     "metadata": {},
     "output_type": "display_data"
    },
    {
     "data": {
      "application/vnd.jupyter.widget-view+json": {
       "model_id": "4c7d7c9eb7c04e6698806a5311b9bee5",
       "version_major": 2,
       "version_minor": 0
      },
      "text/plain": [
       "model-00040-of-000055.safetensors:   0%|          | 0.00/8.60G [00:00<?, ?B/s]"
      ]
     },
     "metadata": {},
     "output_type": "display_data"
    },
    {
     "data": {
      "application/vnd.jupyter.widget-view+json": {
       "model_id": "28b21b5b6fbe49e8b9c10156ca00bae2",
       "version_major": 2,
       "version_minor": 0
      },
      "text/plain": [
       "model-00041-of-000055.safetensors:   0%|          | 0.00/8.59G [00:00<?, ?B/s]"
      ]
     },
     "metadata": {},
     "output_type": "display_data"
    },
    {
     "data": {
      "application/vnd.jupyter.widget-view+json": {
       "model_id": "26935565872048cca0fc818587cee6d2",
       "version_major": 2,
       "version_minor": 0
      },
      "text/plain": [
       "model-00042-of-000055.safetensors:   0%|          | 0.00/8.60G [00:00<?, ?B/s]"
      ]
     },
     "metadata": {},
     "output_type": "display_data"
    },
    {
     "data": {
      "application/vnd.jupyter.widget-view+json": {
       "model_id": "a043091a2f1b4c0c91e614a5cbc9f08f",
       "version_major": 2,
       "version_minor": 0
      },
      "text/plain": [
       "model-00043-of-000055.safetensors:   0%|          | 0.00/8.60G [00:00<?, ?B/s]"
      ]
     },
     "metadata": {},
     "output_type": "display_data"
    },
    {
     "data": {
      "application/vnd.jupyter.widget-view+json": {
       "model_id": "2144f858fa8946cc8525d1bac67bac8a",
       "version_major": 2,
       "version_minor": 0
      },
      "text/plain": [
       "model-00044-of-000055.safetensors:   0%|          | 0.00/8.60G [00:00<?, ?B/s]"
      ]
     },
     "metadata": {},
     "output_type": "display_data"
    },
    {
     "data": {
      "application/vnd.jupyter.widget-view+json": {
       "model_id": "32c419d4479f4502ae754d5bd1aa39a2",
       "version_major": 2,
       "version_minor": 0
      },
      "text/plain": [
       "model-00045-of-000055.safetensors:   0%|          | 0.00/8.60G [00:00<?, ?B/s]"
      ]
     },
     "metadata": {},
     "output_type": "display_data"
    },
    {
     "data": {
      "application/vnd.jupyter.widget-view+json": {
       "model_id": "d6e49873508e4da28e3a6ec5f96af49c",
       "version_major": 2,
       "version_minor": 0
      },
      "text/plain": [
       "model-00046-of-000055.safetensors:   0%|          | 0.00/8.60G [00:00<?, ?B/s]"
      ]
     },
     "metadata": {},
     "output_type": "display_data"
    },
    {
     "data": {
      "application/vnd.jupyter.widget-view+json": {
       "model_id": "efb7c86cfc3e4f4d88c06ca64eb92fee",
       "version_major": 2,
       "version_minor": 0
      },
      "text/plain": [
       "model-00047-of-000055.safetensors:   0%|          | 0.00/8.60G [00:00<?, ?B/s]"
      ]
     },
     "metadata": {},
     "output_type": "display_data"
    },
    {
     "data": {
      "application/vnd.jupyter.widget-view+json": {
       "model_id": "8429bf4a4aaa45a4b941a92b7f167852",
       "version_major": 2,
       "version_minor": 0
      },
      "text/plain": [
       "model-00048-of-000055.safetensors:   0%|          | 0.00/8.60G [00:00<?, ?B/s]"
      ]
     },
     "metadata": {},
     "output_type": "display_data"
    },
    {
     "data": {
      "application/vnd.jupyter.widget-view+json": {
       "model_id": "f318f9fb01d64f6a867069bd62abaa33",
       "version_major": 2,
       "version_minor": 0
      },
      "text/plain": [
       "model-00049-of-000055.safetensors:   0%|          | 0.00/8.60G [00:00<?, ?B/s]"
      ]
     },
     "metadata": {},
     "output_type": "display_data"
    },
    {
     "data": {
      "application/vnd.jupyter.widget-view+json": {
       "model_id": "83832d2899074e9893c01d284937b4a6",
       "version_major": 2,
       "version_minor": 0
      },
      "text/plain": [
       "model-00050-of-000055.safetensors:   0%|          | 0.00/8.60G [00:00<?, ?B/s]"
      ]
     },
     "metadata": {},
     "output_type": "display_data"
    },
    {
     "data": {
      "application/vnd.jupyter.widget-view+json": {
       "model_id": "01557ac777594edaab0c4e6e2eb0bd45",
       "version_major": 2,
       "version_minor": 0
      },
      "text/plain": [
       "model-00051-of-000055.safetensors:   0%|          | 0.00/8.60G [00:00<?, ?B/s]"
      ]
     },
     "metadata": {},
     "output_type": "display_data"
    },
    {
     "data": {
      "application/vnd.jupyter.widget-view+json": {
       "model_id": "036fabeb29e24b1485862bbf93fbefd1",
       "version_major": 2,
       "version_minor": 0
      },
      "text/plain": [
       "model-00052-of-000055.safetensors:   0%|          | 0.00/8.60G [00:00<?, ?B/s]"
      ]
     },
     "metadata": {},
     "output_type": "display_data"
    },
    {
     "data": {
      "application/vnd.jupyter.widget-view+json": {
       "model_id": "1d3caa81d7fc4b508305b745105b58c3",
       "version_major": 2,
       "version_minor": 0
      },
      "text/plain": [
       "model-00053-of-000055.safetensors:   0%|          | 0.00/8.61G [00:00<?, ?B/s]"
      ]
     },
     "metadata": {},
     "output_type": "display_data"
    },
    {
     "data": {
      "application/vnd.jupyter.widget-view+json": {
       "model_id": "24cd8075aa384b87a7845ad2c7a5f842",
       "version_major": 2,
       "version_minor": 0
      },
      "text/plain": [
       "model-00054-of-000055.safetensors:   0%|          | 0.00/8.60G [00:00<?, ?B/s]"
      ]
     },
     "metadata": {},
     "output_type": "display_data"
    },
    {
     "data": {
      "application/vnd.jupyter.widget-view+json": {
       "model_id": "afdc1736d09649a4babcde0823ea5acd",
       "version_major": 2,
       "version_minor": 0
      },
      "text/plain": [
       "model-00055-of-000055.safetensors:   0%|          | 0.00/6.89G [00:00<?, ?B/s]"
      ]
     },
     "metadata": {},
     "output_type": "display_data"
    },
    {
     "data": {
      "application/vnd.jupyter.widget-view+json": {
       "model_id": "73605510659b4eb5aadd498ad87b4eb2",
       "version_major": 2,
       "version_minor": 0
      },
      "text/plain": [
       "Loading checkpoint shards:   0%|          | 0/55 [00:00<?, ?it/s]"
      ]
     },
     "metadata": {},
     "output_type": "display_data"
    }
   ],
   "source": [
    "import torch\n",
    "from datasets import load_dataset\n",
    "from packaging.version import Version\n",
    "from transformers import AutoModelForCausalLM, AutoTokenizer, __version__\n",
    "\n",
    "from llmcompressor import oneshot\n",
    "from llmcompressor.transformers.compression.helpers import calculate_offload_device_map\n",
    "\n",
    "# NOTE: transformers 4.49.0 has an attribute error with DeepSeek.\n",
    "# Please consider either downgrading your transformers version to a\n",
    "# previous version or upgrading to a version where this bug is fixed\n",
    "\n",
    "# select a Mixture of Experts model for quantization\n",
    "MODEL_ID = \"deepseek-ai/DeepSeek-V2.5\"\n",
    "\n",
    "# adjust based off number of desired GPUs\n",
    "# if not enough memory is available, some layers will automatically be offlaoded to cpu\n",
    "device_map = calculate_offload_device_map(\n",
    "    MODEL_ID,\n",
    "    reserve_for_hessians=True,\n",
    "    num_gpus=2,\n",
    "    torch_dtype=torch.bfloat16,\n",
    "    trust_remote_code=True,\n",
    ")\n",
    "\n",
    "model = AutoModelForCausalLM.from_pretrained(\n",
    "    MODEL_ID, device_map=device_map, torch_dtype=torch.bfloat16, trust_remote_code=True\n",
    ")\n",
    "tokenizer = AutoTokenizer.from_pretrained(MODEL_ID)\n",
    "\n",
    "# Select calibration dataset.\n",
    "DATASET_ID = \"HuggingFaceH4/ultrachat_200k\"\n",
    "DATASET_SPLIT = \"train_sft\"\n",
    "NUM_CALIBRATION_SAMPLES = 512\n",
    "MAX_SEQUENCE_LENGTH = 2048\n",
    "\n",
    "\n",
    "# Load dataset and preprocess.\n",
    "ds = load_dataset(DATASET_ID, split=f\"{DATASET_SPLIT}[:{NUM_CALIBRATION_SAMPLES}]\")\n",
    "ds = ds.shuffle(seed=42)\n",
    "\n",
    "\n",
    "def preprocess(example):\n",
    "    return {\n",
    "        \"text\": tokenizer.apply_chat_template(\n",
    "            example[\"messages\"],\n",
    "            tokenize=False,\n",
    "        )\n",
    "    }\n",
    "\n",
    "\n",
    "ds = ds.map(preprocess)\n",
    "\n",
    "\n",
    "# Tokenize inputs.\n",
    "def tokenize(sample):\n",
    "    return tokenizer(\n",
    "        sample[\"text\"],\n",
    "        padding=False,\n",
    "        max_length=MAX_SEQUENCE_LENGTH,\n",
    "        truncation=True,\n",
    "        add_special_tokens=False,\n",
    "    )\n",
    "\n",
    "\n",
    "ds = ds.map(tokenize, remove_columns=ds.column_names)\n",
    "\n",
    "# define a llmcompressor recipe for W416 quantization\n",
    "# since the MoE gate layers are sensitive to quantization, we add them to the ignore\n",
    "# list so they remain at full precision\n",
    "recipe = \"deepseek_recipe_w4a16.yaml\"\n",
    "\n",
    "oneshot(\n",
    "    model=model,\n",
    "    dataset=ds,\n",
    "    recipe=recipe,\n",
    "    max_seq_length=MAX_SEQUENCE_LENGTH,\n",
    "    num_calibration_samples=NUM_CALIBRATION_SAMPLES,\n",
    "    save_compressed=True,\n",
    "    trust_remote_code_model=True,\n",
    ")\n",
    "\n",
    "# Confirm generations of the quantized model look sane.\n",
    "# Generation is broken for deepseek models when using the latest transformers package\n",
    "if Version(__version__) < Version(\"4.48\"):\n",
    "    print(\"========== SAMPLE GENERATION ==============\")\n",
    "    input_ids = tokenizer(\"Hello my name is\", return_tensors=\"pt\").input_ids.to(\"cuda\")\n",
    "    output = model.generate(input_ids, max_new_tokens=20)\n",
    "    print(tokenizer.decode(output[0]))\n",
    "    print(\"==========================================\")\n",
    "else:\n",
    "    print(\n",
    "        \"WARNING: cannot perform sample generation of \"\n",
    "        \"deepseek models with transformers >= 4.48\"\n",
    "    )\n",
    "\n",
    "# Save to disk in compressed-tensors format.\n",
    "SAVE_DIR = MODEL_ID.rstrip(\"/\").split(\"/\")[-1] + \"-W4A16\"\n",
    "model.save_pretrained(SAVE_DIR, save_compressed=True)\n",
    "tokenizer.save_pretrained(SAVE_DIR)\n",
    "\n",
    "\n",
    "# Run the model on vLLM\n",
    "try:\n",
    "    from vllm import LLM, SamplingParams\n",
    "\n",
    "    vllm_installed = True\n",
    "except ImportError:\n",
    "    vllm_installed = False\n"
   ]
  },
  {
   "cell_type": "code",
   "execution_count": null,
   "id": "bfbf7c83-774d-4de6-8728-81fbeb7a7de3",
   "metadata": {},
   "outputs": [],
   "source": [
    "if vllm_installed:\n",
    "    print(\"vLLM installed, running using vLLM\")\n",
    "    sampling_params = SamplingParams(temperature=0.80, top_p=0.95)\n",
    "    llm = LLM(\n",
    "        model=SAVE_DIR,\n",
    "        tensor_parallel_size=2,\n",
    "        trust_remote_code=True,\n",
    "        max_model_len=1042,\n",
    "        dtype=torch.half,\n",
    "    )\n",
    "    prompts = [\n",
    "        \"The capital of France is\",\n",
    "        \"The president of the US is\",\n",
    "        \"My name is\",\n",
    "    ]\n",
    "\n",
    "    outputs = llm.generate(prompts, sampling_params)\n",
    "    print(\"================= vLLM GENERATION ======================\")\n",
    "    for output in outputs:\n",
    "        assert output\n",
    "        prompt = output.prompt\n",
    "        generated_text = output.outputs[0].text\n",
    "        print(\"PROMPT\", prompt)\n",
    "        print(\"GENERATED TEXT\", generated_text)"
   ]
  }
 ],
 "metadata": {
  "kernelspec": {
   "display_name": "Python 3.11",
   "language": "python",
   "name": "python3"
  },
  "language_info": {
   "codemirror_mode": {
    "name": "ipython",
    "version": 3
   },
   "file_extension": ".py",
   "mimetype": "text/x-python",
   "name": "python",
   "nbconvert_exporter": "python",
   "pygments_lexer": "ipython3",
   "version": "3.11.9"
  }
 },
 "nbformat": 4,
 "nbformat_minor": 5
}
